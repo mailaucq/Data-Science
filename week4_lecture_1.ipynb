{
  "nbformat": 4,
  "nbformat_minor": 0,
  "metadata": {
    "kernelspec": {
      "display_name": "Python 3",
      "language": "python",
      "name": "python3"
    },
    "language_info": {
      "codemirror_mode": {
        "name": "ipython",
        "version": 3
      },
      "file_extension": ".py",
      "mimetype": "text/x-python",
      "name": "python",
      "nbconvert_exporter": "python",
      "pygments_lexer": "ipython3",
      "version": "3.7.6"
    },
    "colab": {
      "name": "week4_lecture_1.ipynb",
      "provenance": []
    }
  },
  "cells": [
    {
      "cell_type": "markdown",
      "metadata": {
        "id": "LqqHmyhF26kD",
        "colab_type": "text"
      },
      "source": [
        "# AI4M Course 2 Week 4 lecture notebook"
      ]
    },
    {
      "cell_type": "markdown",
      "metadata": {
        "id": "Tms-9mdv26kG",
        "colab_type": "text"
      },
      "source": [
        "## Outline\n",
        "\n",
        "[One-hot encode categorical variables](#one-hot-encoding)\n",
        "\n",
        "[Hazard function](#hazard-function)\n",
        "\n",
        "[Permissible pairs with censoring and time](#permissible-pairs)"
      ]
    },
    {
      "cell_type": "markdown",
      "metadata": {
        "id": "brXhPCjI26kK",
        "colab_type": "text"
      },
      "source": [
        "<a name=\"one-hot-encoding\"></a>\n",
        "## One-hot encode categorical variables"
      ]
    },
    {
      "cell_type": "code",
      "metadata": {
        "id": "_hbj0Ts926kO",
        "colab_type": "code",
        "colab": {}
      },
      "source": [
        "import pandas as pd"
      ],
      "execution_count": null,
      "outputs": []
    },
    {
      "cell_type": "markdown",
      "metadata": {
        "id": "TObTAR7g26kk",
        "colab_type": "text"
      },
      "source": [
        "### Which features are categorical?"
      ]
    },
    {
      "cell_type": "code",
      "metadata": {
        "id": "2GBcveUc26kn",
        "colab_type": "code",
        "colab": {},
        "outputId": "7063db45-8e44-449a-fd79-550ceff4273a"
      },
      "source": [
        "df = pd.DataFrame({'ascites': [0,1,0,1],\n",
        "                   'edema': [0.5,0,1,0.5],\n",
        "                   'stage': [3,4,3,4],\n",
        "                   'cholesterol': [200.5,180.2,190.5,210.3]\n",
        "                  })\n",
        "df"
      ],
      "execution_count": null,
      "outputs": [
        {
          "output_type": "execute_result",
          "data": {
            "text/html": [
              "<div>\n",
              "<style scoped>\n",
              "    .dataframe tbody tr th:only-of-type {\n",
              "        vertical-align: middle;\n",
              "    }\n",
              "\n",
              "    .dataframe tbody tr th {\n",
              "        vertical-align: top;\n",
              "    }\n",
              "\n",
              "    .dataframe thead th {\n",
              "        text-align: right;\n",
              "    }\n",
              "</style>\n",
              "<table border=\"1\" class=\"dataframe\">\n",
              "  <thead>\n",
              "    <tr style=\"text-align: right;\">\n",
              "      <th></th>\n",
              "      <th>ascites</th>\n",
              "      <th>edema</th>\n",
              "      <th>stage</th>\n",
              "      <th>cholesterol</th>\n",
              "    </tr>\n",
              "  </thead>\n",
              "  <tbody>\n",
              "    <tr>\n",
              "      <th>0</th>\n",
              "      <td>0</td>\n",
              "      <td>0.5</td>\n",
              "      <td>3</td>\n",
              "      <td>200.5</td>\n",
              "    </tr>\n",
              "    <tr>\n",
              "      <th>1</th>\n",
              "      <td>1</td>\n",
              "      <td>0.0</td>\n",
              "      <td>4</td>\n",
              "      <td>180.2</td>\n",
              "    </tr>\n",
              "    <tr>\n",
              "      <th>2</th>\n",
              "      <td>0</td>\n",
              "      <td>1.0</td>\n",
              "      <td>3</td>\n",
              "      <td>190.5</td>\n",
              "    </tr>\n",
              "    <tr>\n",
              "      <th>3</th>\n",
              "      <td>1</td>\n",
              "      <td>0.5</td>\n",
              "      <td>4</td>\n",
              "      <td>210.3</td>\n",
              "    </tr>\n",
              "  </tbody>\n",
              "</table>\n",
              "</div>"
            ],
            "text/plain": [
              "   ascites  edema  stage  cholesterol\n",
              "0        0    0.5      3        200.5\n",
              "1        1    0.0      4        180.2\n",
              "2        0    1.0      3        190.5\n",
              "3        1    0.5      4        210.3"
            ]
          },
          "metadata": {
            "tags": []
          },
          "execution_count": 29
        }
      ]
    },
    {
      "cell_type": "markdown",
      "metadata": {
        "id": "zdgrI7kS26kz",
        "colab_type": "text"
      },
      "source": [
        "In this small sample dataset, 'ascites', 'edema', and 'stage' are categorical variables\n",
        "- ascites: value is either 0 or 1\n",
        "- edema: value is either 0, 0.5 or 1\n",
        "- stage: is either 3 or 4\n",
        "\n",
        "'cholesterol' is a continuous variable, since it can be any decimal value greater than zero."
      ]
    },
    {
      "cell_type": "markdown",
      "metadata": {
        "id": "Q6vC5RUz26k2",
        "colab_type": "text"
      },
      "source": [
        "### Which categorical variables to one-hot encode?\n",
        "\n",
        "Of the categorical variables, which one should be one-hot encoded (turned into dummy variables)?\n",
        "\n",
        "- ascites: is already 0 or 1, so there is not a need to one-hot encode it.\n",
        "    - We could one-hot encode ascites, but it is not necessary when there are just two possible values that are 0 or 1.\n",
        "    - When values are 0 or 1, 1 means a disease is present, and 0 means normal (no disease).\n",
        "- edema: Edema is swelling in any part of the body. This data set's 'edema' feature has 3 categories, so we will want to one-hot encode it so that there is one feature column for each of the three possible values.\n",
        "    - 0: No edema\n",
        "    - 0.5: Patient has edema, but did not receive diuretic therapy (which is used to treat edema)\n",
        "    - 1: Patient has edeam, despite also receiving diuretic therapy (so the condition may be more severe).\n",
        "- stage: has values of 3 and 4.  We will want to one-hot encode these because they are not values of 0 or 1.\n",
        "    - the \"stage\" of cancer is either 0, 1,2,3 or 4.  \n",
        "    - Stage 0 means there is no cancer.  \n",
        "    - Stage 1 is cancer that is limited to a small area of the body, also known as \"early stage cancer\"\n",
        "    - Stage 2 is cancer that has spread to nearby tissues\n",
        "    - stage 3 is cancer that has spread to nearby tissues, but more so than stage 2\n",
        "    - stage 4 is cancer that has spread to distant parts of the body, also known as \"metastatic cancer\".\n",
        "    - We could convert stage 3 to 0 and stage 4 to 1 for the sake of training a model.  This would may be confusing for anyone reviewing our code and data.  We will one-hot encode the 'stage'.\n",
        "        -You'll actually see that we end up with 0 representing stage 3 and 1 representing stage 4 (see the next section)."
      ]
    },
    {
      "cell_type": "markdown",
      "metadata": {
        "id": "iPwPGSAK26k4",
        "colab_type": "text"
      },
      "source": [
        "### Multi-collinearity of one-hot encoded features\n",
        "\n",
        "Let's see what happens when we one-hot encode the 'stage' feature.\n",
        "\n",
        "We'll use [pandas.get_dummies](https://pandas.pydata.org/pandas-docs/stable/reference/api/pandas.get_dummies.html)"
      ]
    },
    {
      "cell_type": "code",
      "metadata": {
        "id": "7W339afm26k6",
        "colab_type": "code",
        "colab": {},
        "outputId": "6c8a131d-d034-4785-9bba-d8f0cbce97e0"
      },
      "source": [
        "df_stage = pd.get_dummies(data=df,\n",
        "               columns=['stage']\n",
        "              )\n",
        "df_stage[['stage_3','stage_4']]"
      ],
      "execution_count": null,
      "outputs": [
        {
          "output_type": "execute_result",
          "data": {
            "text/html": [
              "<div>\n",
              "<style scoped>\n",
              "    .dataframe tbody tr th:only-of-type {\n",
              "        vertical-align: middle;\n",
              "    }\n",
              "\n",
              "    .dataframe tbody tr th {\n",
              "        vertical-align: top;\n",
              "    }\n",
              "\n",
              "    .dataframe thead th {\n",
              "        text-align: right;\n",
              "    }\n",
              "</style>\n",
              "<table border=\"1\" class=\"dataframe\">\n",
              "  <thead>\n",
              "    <tr style=\"text-align: right;\">\n",
              "      <th></th>\n",
              "      <th>stage_3</th>\n",
              "      <th>stage_4</th>\n",
              "    </tr>\n",
              "  </thead>\n",
              "  <tbody>\n",
              "    <tr>\n",
              "      <th>0</th>\n",
              "      <td>1</td>\n",
              "      <td>0</td>\n",
              "    </tr>\n",
              "    <tr>\n",
              "      <th>1</th>\n",
              "      <td>0</td>\n",
              "      <td>1</td>\n",
              "    </tr>\n",
              "    <tr>\n",
              "      <th>2</th>\n",
              "      <td>1</td>\n",
              "      <td>0</td>\n",
              "    </tr>\n",
              "    <tr>\n",
              "      <th>3</th>\n",
              "      <td>0</td>\n",
              "      <td>1</td>\n",
              "    </tr>\n",
              "  </tbody>\n",
              "</table>\n",
              "</div>"
            ],
            "text/plain": [
              "   stage_3  stage_4\n",
              "0        1        0\n",
              "1        0        1\n",
              "2        1        0\n",
              "3        0        1"
            ]
          },
          "metadata": {
            "tags": []
          },
          "execution_count": 3
        }
      ]
    },
    {
      "cell_type": "markdown",
      "metadata": {
        "id": "FzQkt7MJ26lG",
        "colab_type": "text"
      },
      "source": [
        "What do you notice about the 'stage_3' and 'stage_4' features?\n",
        "\n",
        "Given that stage 3 and stage 4 are the only possible values for stage,  \n",
        "If you know that patient 0 (row 0) has stage_3 set to 1, \n",
        "what can you say about that same patient's value for the stage_4 feature?\n",
        "- When stage_3 is 1, then stage_4 must be 0\n",
        "- When stage_3 is 0, then stage_4 must be 1\n",
        "\n",
        "This means that one of the feature columns is actually redundant.  We should drop one of these features to avoid multicollinearity (where one feature can predict another feature)."
      ]
    },
    {
      "cell_type": "code",
      "metadata": {
        "id": "dmhKrtx126lJ",
        "colab_type": "code",
        "colab": {},
        "outputId": "a553e1ec-b449-4047-abbe-ed5d6ce18f7e"
      },
      "source": [
        "df_stage"
      ],
      "execution_count": null,
      "outputs": [
        {
          "output_type": "execute_result",
          "data": {
            "text/html": [
              "<div>\n",
              "<style scoped>\n",
              "    .dataframe tbody tr th:only-of-type {\n",
              "        vertical-align: middle;\n",
              "    }\n",
              "\n",
              "    .dataframe tbody tr th {\n",
              "        vertical-align: top;\n",
              "    }\n",
              "\n",
              "    .dataframe thead th {\n",
              "        text-align: right;\n",
              "    }\n",
              "</style>\n",
              "<table border=\"1\" class=\"dataframe\">\n",
              "  <thead>\n",
              "    <tr style=\"text-align: right;\">\n",
              "      <th></th>\n",
              "      <th>ascites</th>\n",
              "      <th>edema</th>\n",
              "      <th>cholesterol</th>\n",
              "      <th>stage_3</th>\n",
              "      <th>stage_4</th>\n",
              "    </tr>\n",
              "  </thead>\n",
              "  <tbody>\n",
              "    <tr>\n",
              "      <th>0</th>\n",
              "      <td>0</td>\n",
              "      <td>0.5</td>\n",
              "      <td>200.5</td>\n",
              "      <td>1</td>\n",
              "      <td>0</td>\n",
              "    </tr>\n",
              "    <tr>\n",
              "      <th>1</th>\n",
              "      <td>1</td>\n",
              "      <td>0.0</td>\n",
              "      <td>180.2</td>\n",
              "      <td>0</td>\n",
              "      <td>1</td>\n",
              "    </tr>\n",
              "    <tr>\n",
              "      <th>2</th>\n",
              "      <td>0</td>\n",
              "      <td>1.0</td>\n",
              "      <td>190.5</td>\n",
              "      <td>1</td>\n",
              "      <td>0</td>\n",
              "    </tr>\n",
              "    <tr>\n",
              "      <th>3</th>\n",
              "      <td>1</td>\n",
              "      <td>0.5</td>\n",
              "      <td>210.3</td>\n",
              "      <td>0</td>\n",
              "      <td>1</td>\n",
              "    </tr>\n",
              "  </tbody>\n",
              "</table>\n",
              "</div>"
            ],
            "text/plain": [
              "   ascites  edema  cholesterol  stage_3  stage_4\n",
              "0        0    0.5        200.5        1        0\n",
              "1        1    0.0        180.2        0        1\n",
              "2        0    1.0        190.5        1        0\n",
              "3        1    0.5        210.3        0        1"
            ]
          },
          "metadata": {
            "tags": []
          },
          "execution_count": 4
        }
      ]
    },
    {
      "cell_type": "code",
      "metadata": {
        "id": "jJ7o-H3N26lU",
        "colab_type": "code",
        "colab": {},
        "outputId": "f7f8462a-4aaf-4a0f-a619-39432f0536e7"
      },
      "source": [
        "df_stage_drop_first = df_stage.drop(columns='stage_3')\n",
        "df_stage_drop_first"
      ],
      "execution_count": null,
      "outputs": [
        {
          "output_type": "execute_result",
          "data": {
            "text/html": [
              "<div>\n",
              "<style scoped>\n",
              "    .dataframe tbody tr th:only-of-type {\n",
              "        vertical-align: middle;\n",
              "    }\n",
              "\n",
              "    .dataframe tbody tr th {\n",
              "        vertical-align: top;\n",
              "    }\n",
              "\n",
              "    .dataframe thead th {\n",
              "        text-align: right;\n",
              "    }\n",
              "</style>\n",
              "<table border=\"1\" class=\"dataframe\">\n",
              "  <thead>\n",
              "    <tr style=\"text-align: right;\">\n",
              "      <th></th>\n",
              "      <th>ascites</th>\n",
              "      <th>edema</th>\n",
              "      <th>cholesterol</th>\n",
              "      <th>stage_4</th>\n",
              "    </tr>\n",
              "  </thead>\n",
              "  <tbody>\n",
              "    <tr>\n",
              "      <th>0</th>\n",
              "      <td>0</td>\n",
              "      <td>0.5</td>\n",
              "      <td>200.5</td>\n",
              "      <td>0</td>\n",
              "    </tr>\n",
              "    <tr>\n",
              "      <th>1</th>\n",
              "      <td>1</td>\n",
              "      <td>0.0</td>\n",
              "      <td>180.2</td>\n",
              "      <td>1</td>\n",
              "    </tr>\n",
              "    <tr>\n",
              "      <th>2</th>\n",
              "      <td>0</td>\n",
              "      <td>1.0</td>\n",
              "      <td>190.5</td>\n",
              "      <td>0</td>\n",
              "    </tr>\n",
              "    <tr>\n",
              "      <th>3</th>\n",
              "      <td>1</td>\n",
              "      <td>0.5</td>\n",
              "      <td>210.3</td>\n",
              "      <td>1</td>\n",
              "    </tr>\n",
              "  </tbody>\n",
              "</table>\n",
              "</div>"
            ],
            "text/plain": [
              "   ascites  edema  cholesterol  stage_4\n",
              "0        0    0.5        200.5        0\n",
              "1        1    0.0        180.2        1\n",
              "2        0    1.0        190.5        0\n",
              "3        1    0.5        210.3        1"
            ]
          },
          "metadata": {
            "tags": []
          },
          "execution_count": 5
        }
      ]
    },
    {
      "cell_type": "markdown",
      "metadata": {
        "id": "6TU1bcz326lf",
        "colab_type": "text"
      },
      "source": [
        "Note, there's actually a parameter of pandas.get_dummies() that lets you drop the first one-hot encoded column.  You'll practice doing this in this week's assignment!"
      ]
    },
    {
      "cell_type": "markdown",
      "metadata": {
        "id": "IC5Clf7p26li",
        "colab_type": "text"
      },
      "source": [
        "### Make the numbers decimals\n",
        "\n",
        "We can cast the one-hot encoded values as floats by setting the data type to numpy.float64.\n",
        "- This is helpful if we are feeding data into a model, where the model expects a certain data type (such as a 64-bit float, 32-bit float etc.)"
      ]
    },
    {
      "cell_type": "code",
      "metadata": {
        "id": "y-FmxU2A26lk",
        "colab_type": "code",
        "colab": {}
      },
      "source": [
        "import numpy as np"
      ],
      "execution_count": null,
      "outputs": []
    },
    {
      "cell_type": "code",
      "metadata": {
        "id": "pMUdoDQL26ls",
        "colab_type": "code",
        "colab": {},
        "outputId": "bda30bb1-eea2-400a-a894-94ba7660e67d"
      },
      "source": [
        "df_stage = pd.get_dummies(data=df,\n",
        "               columns=['stage'],\n",
        "              )\n",
        "df_stage[['stage_4']]"
      ],
      "execution_count": null,
      "outputs": [
        {
          "output_type": "execute_result",
          "data": {
            "text/html": [
              "<div>\n",
              "<style scoped>\n",
              "    .dataframe tbody tr th:only-of-type {\n",
              "        vertical-align: middle;\n",
              "    }\n",
              "\n",
              "    .dataframe tbody tr th {\n",
              "        vertical-align: top;\n",
              "    }\n",
              "\n",
              "    .dataframe thead th {\n",
              "        text-align: right;\n",
              "    }\n",
              "</style>\n",
              "<table border=\"1\" class=\"dataframe\">\n",
              "  <thead>\n",
              "    <tr style=\"text-align: right;\">\n",
              "      <th></th>\n",
              "      <th>stage_4</th>\n",
              "    </tr>\n",
              "  </thead>\n",
              "  <tbody>\n",
              "    <tr>\n",
              "      <th>0</th>\n",
              "      <td>0</td>\n",
              "    </tr>\n",
              "    <tr>\n",
              "      <th>1</th>\n",
              "      <td>1</td>\n",
              "    </tr>\n",
              "    <tr>\n",
              "      <th>2</th>\n",
              "      <td>0</td>\n",
              "    </tr>\n",
              "    <tr>\n",
              "      <th>3</th>\n",
              "      <td>1</td>\n",
              "    </tr>\n",
              "  </tbody>\n",
              "</table>\n",
              "</div>"
            ],
            "text/plain": [
              "   stage_4\n",
              "0        0\n",
              "1        1\n",
              "2        0\n",
              "3        1"
            ]
          },
          "metadata": {
            "tags": []
          },
          "execution_count": 7
        }
      ]
    },
    {
      "cell_type": "code",
      "metadata": {
        "id": "707qpr3426l2",
        "colab_type": "code",
        "colab": {},
        "outputId": "db05dde1-7e61-4230-b68e-66761cc5dbbc"
      },
      "source": [
        "df_stage_float64 = pd.get_dummies(data=df,\n",
        "               columns=['stage'],\n",
        "               dtype=np.float64\n",
        "              )\n",
        "df_stage_float64[['stage_4']]"
      ],
      "execution_count": null,
      "outputs": [
        {
          "output_type": "execute_result",
          "data": {
            "text/html": [
              "<div>\n",
              "<style scoped>\n",
              "    .dataframe tbody tr th:only-of-type {\n",
              "        vertical-align: middle;\n",
              "    }\n",
              "\n",
              "    .dataframe tbody tr th {\n",
              "        vertical-align: top;\n",
              "    }\n",
              "\n",
              "    .dataframe thead th {\n",
              "        text-align: right;\n",
              "    }\n",
              "</style>\n",
              "<table border=\"1\" class=\"dataframe\">\n",
              "  <thead>\n",
              "    <tr style=\"text-align: right;\">\n",
              "      <th></th>\n",
              "      <th>stage_4</th>\n",
              "    </tr>\n",
              "  </thead>\n",
              "  <tbody>\n",
              "    <tr>\n",
              "      <th>0</th>\n",
              "      <td>0.0</td>\n",
              "    </tr>\n",
              "    <tr>\n",
              "      <th>1</th>\n",
              "      <td>1.0</td>\n",
              "    </tr>\n",
              "    <tr>\n",
              "      <th>2</th>\n",
              "      <td>0.0</td>\n",
              "    </tr>\n",
              "    <tr>\n",
              "      <th>3</th>\n",
              "      <td>1.0</td>\n",
              "    </tr>\n",
              "  </tbody>\n",
              "</table>\n",
              "</div>"
            ],
            "text/plain": [
              "   stage_4\n",
              "0      0.0\n",
              "1      1.0\n",
              "2      0.0\n",
              "3      1.0"
            ]
          },
          "metadata": {
            "tags": []
          },
          "execution_count": 8
        }
      ]
    },
    {
      "cell_type": "markdown",
      "metadata": {
        "id": "MVeee4n626mB",
        "colab_type": "text"
      },
      "source": [
        "### This is the end of this practice section.\n",
        "\n",
        "Please continue on with the lecture videos!\n",
        "\n",
        "---"
      ]
    },
    {
      "cell_type": "markdown",
      "metadata": {
        "id": "E0MNf2aJ26mD",
        "colab_type": "text"
      },
      "source": [
        "<a name=\"hazard-function\"></a>\n",
        "## Hazard function"
      ]
    },
    {
      "cell_type": "markdown",
      "metadata": {
        "id": "-4jEto2j26mG",
        "colab_type": "text"
      },
      "source": [
        "Let's say we fit the hazard function\n",
        "$$\n",
        "\\lambda(t, x) = \\lambda_0(t)e^{\\theta^T X_i}\n",
        "$$\n",
        "\n",
        "So that we have the coefficients $\\theta$ for the features in $X_i$\n",
        "\n",
        "If you have a new patient, let's predict their hazard $\\lambda(t,x)$"
      ]
    },
    {
      "cell_type": "code",
      "metadata": {
        "id": "8SzA8PlP26mJ",
        "colab_type": "code",
        "colab": {}
      },
      "source": [
        "import numpy as np\n",
        "import pandas as pd"
      ],
      "execution_count": null,
      "outputs": []
    },
    {
      "cell_type": "code",
      "metadata": {
        "id": "AFLmNwJq26mT",
        "colab_type": "code",
        "colab": {},
        "outputId": "e11107bd-bddc-4d99-c9bd-05d6d1b6312e"
      },
      "source": [
        "lambda_0 = 1\n",
        "coef = np.array([0.5,2.])\n",
        "coef"
      ],
      "execution_count": null,
      "outputs": [
        {
          "output_type": "execute_result",
          "data": {
            "text/plain": [
              "array([0.5, 2. ])"
            ]
          },
          "metadata": {
            "tags": []
          },
          "execution_count": 10
        }
      ]
    },
    {
      "cell_type": "code",
      "metadata": {
        "id": "EpQIIAqY26mf",
        "colab_type": "code",
        "colab": {},
        "outputId": "ee7377d2-28be-49f3-9717-eb3e144ee5ae"
      },
      "source": [
        "X = pd.DataFrame({'age': [20,30,40],\n",
        "                  'cholesterol': [180,220,170]\n",
        "                 })\n",
        "X"
      ],
      "execution_count": null,
      "outputs": [
        {
          "output_type": "execute_result",
          "data": {
            "text/html": [
              "<div>\n",
              "<style scoped>\n",
              "    .dataframe tbody tr th:only-of-type {\n",
              "        vertical-align: middle;\n",
              "    }\n",
              "\n",
              "    .dataframe tbody tr th {\n",
              "        vertical-align: top;\n",
              "    }\n",
              "\n",
              "    .dataframe thead th {\n",
              "        text-align: right;\n",
              "    }\n",
              "</style>\n",
              "<table border=\"1\" class=\"dataframe\">\n",
              "  <thead>\n",
              "    <tr style=\"text-align: right;\">\n",
              "      <th></th>\n",
              "      <th>age</th>\n",
              "      <th>cholesterol</th>\n",
              "    </tr>\n",
              "  </thead>\n",
              "  <tbody>\n",
              "    <tr>\n",
              "      <th>0</th>\n",
              "      <td>20</td>\n",
              "      <td>180</td>\n",
              "    </tr>\n",
              "    <tr>\n",
              "      <th>1</th>\n",
              "      <td>30</td>\n",
              "      <td>220</td>\n",
              "    </tr>\n",
              "    <tr>\n",
              "      <th>2</th>\n",
              "      <td>40</td>\n",
              "      <td>170</td>\n",
              "    </tr>\n",
              "  </tbody>\n",
              "</table>\n",
              "</div>"
            ],
            "text/plain": [
              "   age  cholesterol\n",
              "0   20          180\n",
              "1   30          220\n",
              "2   40          170"
            ]
          },
          "metadata": {
            "tags": []
          },
          "execution_count": 11
        }
      ]
    },
    {
      "cell_type": "markdown",
      "metadata": {
        "id": "i8wYAZ-H26mo",
        "colab_type": "text"
      },
      "source": [
        "- First, let's multiply the coefficients to the features.\n",
        "- Check the shapes of the coefficients and the features to decide which one to transpose"
      ]
    },
    {
      "cell_type": "code",
      "metadata": {
        "id": "s-WLT2Gm26mp",
        "colab_type": "code",
        "colab": {},
        "outputId": "80f5d5cf-e680-4873-d22a-769622b8e6b7"
      },
      "source": [
        "coef.shape"
      ],
      "execution_count": null,
      "outputs": [
        {
          "output_type": "execute_result",
          "data": {
            "text/plain": [
              "(2,)"
            ]
          },
          "metadata": {
            "tags": []
          },
          "execution_count": 12
        }
      ]
    },
    {
      "cell_type": "code",
      "metadata": {
        "id": "3ry5xoOU26mz",
        "colab_type": "code",
        "colab": {},
        "outputId": "4bf3238f-1e6c-45ac-acd8-db36aac230fa"
      },
      "source": [
        "X.shape"
      ],
      "execution_count": null,
      "outputs": [
        {
          "output_type": "execute_result",
          "data": {
            "text/plain": [
              "(3, 2)"
            ]
          },
          "metadata": {
            "tags": []
          },
          "execution_count": 13
        }
      ]
    },
    {
      "cell_type": "markdown",
      "metadata": {
        "id": "fwQhkZUF26m_",
        "colab_type": "text"
      },
      "source": [
        "It looks like the coefficient is a 1D array, so transposing it won't do anything.  \n",
        "- We can transpose the X so that we're multiplying a (2,) array by a (2,3) dataframe.\n",
        "\n",
        "So the formula looks more like this (transpose $X_i$ instead of $\\theta$\n",
        "$$\n",
        "\\lambda(t, x) = \\lambda_0(t)e^{\\theta X_i^T}\n",
        "$$\n",
        "\n",
        "- Let's multiply $\\theta X_i^T$"
      ]
    },
    {
      "cell_type": "code",
      "metadata": {
        "id": "LdtM7d7G26nA",
        "colab_type": "code",
        "colab": {},
        "outputId": "ff4fc40d-f3b5-4308-dc43-cdab48b4f72b"
      },
      "source": [
        "np.dot(coef,X.T)"
      ],
      "execution_count": null,
      "outputs": [
        {
          "output_type": "execute_result",
          "data": {
            "text/plain": [
              "array([370., 455., 360.])"
            ]
          },
          "metadata": {
            "tags": []
          },
          "execution_count": 30
        }
      ]
    },
    {
      "cell_type": "markdown",
      "metadata": {
        "id": "bF4T-Xd526nJ",
        "colab_type": "text"
      },
      "source": [
        "Calculate the hazard for the three patients (there are 3 rows in X)"
      ]
    },
    {
      "cell_type": "code",
      "metadata": {
        "id": "hPmt39K326nL",
        "colab_type": "code",
        "colab": {},
        "outputId": "2e4a1908-83d5-4bd7-9603-85f0116d91fe"
      },
      "source": [
        "lambdas = lambda_0 * np.exp(np.dot(coef,X.T))\n",
        "patients_df = X.copy()\n",
        "patients_df['hazards'] = lambdas\n",
        "patients_df"
      ],
      "execution_count": null,
      "outputs": [
        {
          "output_type": "execute_result",
          "data": {
            "text/html": [
              "<div>\n",
              "<style scoped>\n",
              "    .dataframe tbody tr th:only-of-type {\n",
              "        vertical-align: middle;\n",
              "    }\n",
              "\n",
              "    .dataframe tbody tr th {\n",
              "        vertical-align: top;\n",
              "    }\n",
              "\n",
              "    .dataframe thead th {\n",
              "        text-align: right;\n",
              "    }\n",
              "</style>\n",
              "<table border=\"1\" class=\"dataframe\">\n",
              "  <thead>\n",
              "    <tr style=\"text-align: right;\">\n",
              "      <th></th>\n",
              "      <th>age</th>\n",
              "      <th>cholesterol</th>\n",
              "      <th>hazards</th>\n",
              "    </tr>\n",
              "  </thead>\n",
              "  <tbody>\n",
              "    <tr>\n",
              "      <th>0</th>\n",
              "      <td>20</td>\n",
              "      <td>180</td>\n",
              "      <td>4.886054e+160</td>\n",
              "    </tr>\n",
              "    <tr>\n",
              "      <th>1</th>\n",
              "      <td>30</td>\n",
              "      <td>220</td>\n",
              "      <td>4.017809e+197</td>\n",
              "    </tr>\n",
              "    <tr>\n",
              "      <th>2</th>\n",
              "      <td>40</td>\n",
              "      <td>170</td>\n",
              "      <td>2.218265e+156</td>\n",
              "    </tr>\n",
              "  </tbody>\n",
              "</table>\n",
              "</div>"
            ],
            "text/plain": [
              "   age  cholesterol        hazards\n",
              "0   20          180  4.886054e+160\n",
              "1   30          220  4.017809e+197\n",
              "2   40          170  2.218265e+156"
            ]
          },
          "metadata": {
            "tags": []
          },
          "execution_count": 31
        }
      ]
    },
    {
      "cell_type": "markdown",
      "metadata": {
        "id": "SwwmnFOe26nS",
        "colab_type": "text"
      },
      "source": [
        "### This is the end of this practice section.\n",
        "\n",
        "Please continue on with the lecture videos!\n",
        "\n",
        "---"
      ]
    },
    {
      "cell_type": "markdown",
      "metadata": {
        "id": "sXSwGKVo26nU",
        "colab_type": "text"
      },
      "source": [
        "<a name=\"permissible-pairs\"></a>\n",
        "## Permissible pairs with censoring and time"
      ]
    },
    {
      "cell_type": "code",
      "metadata": {
        "id": "MzeWaQCw26nW",
        "colab_type": "code",
        "colab": {}
      },
      "source": [
        "import pandas as pd"
      ],
      "execution_count": null,
      "outputs": []
    },
    {
      "cell_type": "code",
      "metadata": {
        "id": "qYeLaprs26nb",
        "colab_type": "code",
        "colab": {},
        "outputId": "c7b3b79a-065c-4ad0-ca4e-f4da2d06ed67"
      },
      "source": [
        "df = pd.DataFrame({'time': [2,4,2,4,2,4,2,4],\n",
        "                   'event': [1,1,1,1,0,1,1,0],\n",
        "                   'risk_score': [20,40,40,20,20,40,40,20] \n",
        "                  })\n",
        "df"
      ],
      "execution_count": null,
      "outputs": [
        {
          "output_type": "execute_result",
          "data": {
            "text/html": [
              "<div>\n",
              "<style scoped>\n",
              "    .dataframe tbody tr th:only-of-type {\n",
              "        vertical-align: middle;\n",
              "    }\n",
              "\n",
              "    .dataframe tbody tr th {\n",
              "        vertical-align: top;\n",
              "    }\n",
              "\n",
              "    .dataframe thead th {\n",
              "        text-align: right;\n",
              "    }\n",
              "</style>\n",
              "<table border=\"1\" class=\"dataframe\">\n",
              "  <thead>\n",
              "    <tr style=\"text-align: right;\">\n",
              "      <th></th>\n",
              "      <th>time</th>\n",
              "      <th>event</th>\n",
              "      <th>risk_score</th>\n",
              "    </tr>\n",
              "  </thead>\n",
              "  <tbody>\n",
              "    <tr>\n",
              "      <th>0</th>\n",
              "      <td>2</td>\n",
              "      <td>1</td>\n",
              "      <td>20</td>\n",
              "    </tr>\n",
              "    <tr>\n",
              "      <th>1</th>\n",
              "      <td>4</td>\n",
              "      <td>1</td>\n",
              "      <td>40</td>\n",
              "    </tr>\n",
              "    <tr>\n",
              "      <th>2</th>\n",
              "      <td>2</td>\n",
              "      <td>1</td>\n",
              "      <td>40</td>\n",
              "    </tr>\n",
              "    <tr>\n",
              "      <th>3</th>\n",
              "      <td>4</td>\n",
              "      <td>1</td>\n",
              "      <td>20</td>\n",
              "    </tr>\n",
              "    <tr>\n",
              "      <th>4</th>\n",
              "      <td>2</td>\n",
              "      <td>0</td>\n",
              "      <td>20</td>\n",
              "    </tr>\n",
              "    <tr>\n",
              "      <th>5</th>\n",
              "      <td>4</td>\n",
              "      <td>1</td>\n",
              "      <td>40</td>\n",
              "    </tr>\n",
              "    <tr>\n",
              "      <th>6</th>\n",
              "      <td>2</td>\n",
              "      <td>1</td>\n",
              "      <td>40</td>\n",
              "    </tr>\n",
              "    <tr>\n",
              "      <th>7</th>\n",
              "      <td>4</td>\n",
              "      <td>0</td>\n",
              "      <td>20</td>\n",
              "    </tr>\n",
              "  </tbody>\n",
              "</table>\n",
              "</div>"
            ],
            "text/plain": [
              "   time  event  risk_score\n",
              "0     2      1          20\n",
              "1     4      1          40\n",
              "2     2      1          40\n",
              "3     4      1          20\n",
              "4     2      0          20\n",
              "5     4      1          40\n",
              "6     2      1          40\n",
              "7     4      0          20"
            ]
          },
          "metadata": {
            "tags": []
          },
          "execution_count": 33
        }
      ]
    },
    {
      "cell_type": "markdown",
      "metadata": {
        "id": "NpnBK8QP26nk",
        "colab_type": "text"
      },
      "source": [
        "We made this data sample so that you can compare pairs of patients visually."
      ]
    },
    {
      "cell_type": "markdown",
      "metadata": {
        "id": "ZRujaDBz26no",
        "colab_type": "text"
      },
      "source": [
        "### When at least one patient is not censored\n",
        "- A pair may be permissible if at least one patient is not censored.\n",
        "- If both pairs of patients are censored, then they are definitely not a permissible pair."
      ]
    },
    {
      "cell_type": "code",
      "metadata": {
        "id": "NYDUvEnz26np",
        "colab_type": "code",
        "colab": {},
        "outputId": "496b4e37-6f63-4172-d123-b70275554815"
      },
      "source": [
        "pd.concat([df.iloc[0:1],df.iloc[1:2]],axis=0)"
      ],
      "execution_count": null,
      "outputs": [
        {
          "output_type": "execute_result",
          "data": {
            "text/html": [
              "<div>\n",
              "<style scoped>\n",
              "    .dataframe tbody tr th:only-of-type {\n",
              "        vertical-align: middle;\n",
              "    }\n",
              "\n",
              "    .dataframe tbody tr th {\n",
              "        vertical-align: top;\n",
              "    }\n",
              "\n",
              "    .dataframe thead th {\n",
              "        text-align: right;\n",
              "    }\n",
              "</style>\n",
              "<table border=\"1\" class=\"dataframe\">\n",
              "  <thead>\n",
              "    <tr style=\"text-align: right;\">\n",
              "      <th></th>\n",
              "      <th>time</th>\n",
              "      <th>event</th>\n",
              "      <th>risk_score</th>\n",
              "    </tr>\n",
              "  </thead>\n",
              "  <tbody>\n",
              "    <tr>\n",
              "      <th>0</th>\n",
              "      <td>2</td>\n",
              "      <td>1</td>\n",
              "      <td>20</td>\n",
              "    </tr>\n",
              "    <tr>\n",
              "      <th>1</th>\n",
              "      <td>4</td>\n",
              "      <td>1</td>\n",
              "      <td>40</td>\n",
              "    </tr>\n",
              "  </tbody>\n",
              "</table>\n",
              "</div>"
            ],
            "text/plain": [
              "   time  event  risk_score\n",
              "0     2      1          20\n",
              "1     4      1          40"
            ]
          },
          "metadata": {
            "tags": []
          },
          "execution_count": 34
        }
      ]
    },
    {
      "cell_type": "code",
      "metadata": {
        "id": "iCHHQ1VQ26nv",
        "colab_type": "code",
        "colab": {},
        "outputId": "7454f546-8cc1-4adc-d67d-6ab6c68362b7"
      },
      "source": [
        "if df['event'][0] == 1 or df['event'][1] == 1:\n",
        "    print(f\"May be a permissible pair: 0 and 1\")\n",
        "else:\n",
        "    print(f\"Definitely not permissible pair: 0 and 1\")"
      ],
      "execution_count": null,
      "outputs": [
        {
          "output_type": "stream",
          "text": [
            "May be a permissible pair: 0 and 1\n"
          ],
          "name": "stdout"
        }
      ]
    },
    {
      "cell_type": "code",
      "metadata": {
        "id": "8mcfqGOj26n2",
        "colab_type": "code",
        "colab": {},
        "outputId": "e93f2c8d-8275-4c1d-80af-f7079b4e62f3"
      },
      "source": [
        "pd.concat([df.iloc[4:5],df.iloc[7:8]],axis=0)"
      ],
      "execution_count": null,
      "outputs": [
        {
          "output_type": "execute_result",
          "data": {
            "text/html": [
              "<div>\n",
              "<style scoped>\n",
              "    .dataframe tbody tr th:only-of-type {\n",
              "        vertical-align: middle;\n",
              "    }\n",
              "\n",
              "    .dataframe tbody tr th {\n",
              "        vertical-align: top;\n",
              "    }\n",
              "\n",
              "    .dataframe thead th {\n",
              "        text-align: right;\n",
              "    }\n",
              "</style>\n",
              "<table border=\"1\" class=\"dataframe\">\n",
              "  <thead>\n",
              "    <tr style=\"text-align: right;\">\n",
              "      <th></th>\n",
              "      <th>time</th>\n",
              "      <th>event</th>\n",
              "      <th>risk_score</th>\n",
              "    </tr>\n",
              "  </thead>\n",
              "  <tbody>\n",
              "    <tr>\n",
              "      <th>4</th>\n",
              "      <td>2</td>\n",
              "      <td>0</td>\n",
              "      <td>20</td>\n",
              "    </tr>\n",
              "    <tr>\n",
              "      <th>7</th>\n",
              "      <td>4</td>\n",
              "      <td>0</td>\n",
              "      <td>20</td>\n",
              "    </tr>\n",
              "  </tbody>\n",
              "</table>\n",
              "</div>"
            ],
            "text/plain": [
              "   time  event  risk_score\n",
              "4     2      0          20\n",
              "7     4      0          20"
            ]
          },
          "metadata": {
            "tags": []
          },
          "execution_count": 36
        }
      ]
    },
    {
      "cell_type": "code",
      "metadata": {
        "id": "BZek5RUb26n9",
        "colab_type": "code",
        "colab": {},
        "outputId": "7c95d1c8-84ba-46f1-e337-bdc67d08bb04"
      },
      "source": [
        "if df['event'][4] == 1 or df['event'][7] == 1:\n",
        "    print(f\"May be a permissible pair: 4 and 7\")\n",
        "else:\n",
        "    print(f\"Definitely not permissible pair: 4 and 7\")"
      ],
      "execution_count": null,
      "outputs": [
        {
          "output_type": "stream",
          "text": [
            "Definitely not permissible pair: 4 and 7\n"
          ],
          "name": "stdout"
        }
      ]
    },
    {
      "cell_type": "markdown",
      "metadata": {
        "id": "u5lSqZYS26oE",
        "colab_type": "text"
      },
      "source": [
        "### If neither patient was censored:\n",
        "- If both patients had an event (neither one was censored). This is definitely a permissible pair."
      ]
    },
    {
      "cell_type": "code",
      "metadata": {
        "id": "0J_FqJiV26oJ",
        "colab_type": "code",
        "colab": {},
        "outputId": "56e8363c-2802-45c5-b0b3-bc5f84859368"
      },
      "source": [
        "pd.concat([df.iloc[0:1],df.iloc[1:2]],axis=0)"
      ],
      "execution_count": null,
      "outputs": [
        {
          "output_type": "execute_result",
          "data": {
            "text/html": [
              "<div>\n",
              "<style scoped>\n",
              "    .dataframe tbody tr th:only-of-type {\n",
              "        vertical-align: middle;\n",
              "    }\n",
              "\n",
              "    .dataframe tbody tr th {\n",
              "        vertical-align: top;\n",
              "    }\n",
              "\n",
              "    .dataframe thead th {\n",
              "        text-align: right;\n",
              "    }\n",
              "</style>\n",
              "<table border=\"1\" class=\"dataframe\">\n",
              "  <thead>\n",
              "    <tr style=\"text-align: right;\">\n",
              "      <th></th>\n",
              "      <th>time</th>\n",
              "      <th>event</th>\n",
              "      <th>risk_score</th>\n",
              "    </tr>\n",
              "  </thead>\n",
              "  <tbody>\n",
              "    <tr>\n",
              "      <th>0</th>\n",
              "      <td>2</td>\n",
              "      <td>1</td>\n",
              "      <td>20</td>\n",
              "    </tr>\n",
              "    <tr>\n",
              "      <th>1</th>\n",
              "      <td>4</td>\n",
              "      <td>1</td>\n",
              "      <td>40</td>\n",
              "    </tr>\n",
              "  </tbody>\n",
              "</table>\n",
              "</div>"
            ],
            "text/plain": [
              "   time  event  risk_score\n",
              "0     2      1          20\n",
              "1     4      1          40"
            ]
          },
          "metadata": {
            "tags": []
          },
          "execution_count": 38
        }
      ]
    },
    {
      "cell_type": "code",
      "metadata": {
        "id": "9EkBcJTZ26oR",
        "colab_type": "code",
        "colab": {},
        "outputId": "531bf5c8-5f3e-4d31-d50c-65e4b8e9a5f4"
      },
      "source": [
        "if df['event'][0] == 1 and df['event'][1] == 1:\n",
        "    print(f\"Definitely a permissible pair: 0 and 1\")\n",
        "else:\n",
        "    print(f\"May be a permissible pair: 0 and 1\")"
      ],
      "execution_count": null,
      "outputs": [
        {
          "output_type": "stream",
          "text": [
            "Definitely a permissible pair: 0 and 1\n"
          ],
          "name": "stdout"
        }
      ]
    },
    {
      "cell_type": "markdown",
      "metadata": {
        "id": "RGJJXYt226oX",
        "colab_type": "text"
      },
      "source": [
        "### When one patient is censored:\n",
        "- If we know that one patient was censored and one had an event, then we can check if censored patient's time is at least as great as the uncensored patient's time.  If so, it's a permissible pair as well"
      ]
    },
    {
      "cell_type": "code",
      "metadata": {
        "id": "i60sirnr26oY",
        "colab_type": "code",
        "colab": {},
        "outputId": "ccd33702-246b-45d1-dcb2-373913492e18"
      },
      "source": [
        "pd.concat([df.iloc[6:7],df.iloc[7:8]],axis=0)"
      ],
      "execution_count": null,
      "outputs": [
        {
          "output_type": "execute_result",
          "data": {
            "text/html": [
              "<div>\n",
              "<style scoped>\n",
              "    .dataframe tbody tr th:only-of-type {\n",
              "        vertical-align: middle;\n",
              "    }\n",
              "\n",
              "    .dataframe tbody tr th {\n",
              "        vertical-align: top;\n",
              "    }\n",
              "\n",
              "    .dataframe thead th {\n",
              "        text-align: right;\n",
              "    }\n",
              "</style>\n",
              "<table border=\"1\" class=\"dataframe\">\n",
              "  <thead>\n",
              "    <tr style=\"text-align: right;\">\n",
              "      <th></th>\n",
              "      <th>time</th>\n",
              "      <th>event</th>\n",
              "      <th>risk_score</th>\n",
              "    </tr>\n",
              "  </thead>\n",
              "  <tbody>\n",
              "    <tr>\n",
              "      <th>6</th>\n",
              "      <td>2</td>\n",
              "      <td>1</td>\n",
              "      <td>40</td>\n",
              "    </tr>\n",
              "    <tr>\n",
              "      <th>7</th>\n",
              "      <td>4</td>\n",
              "      <td>0</td>\n",
              "      <td>20</td>\n",
              "    </tr>\n",
              "  </tbody>\n",
              "</table>\n",
              "</div>"
            ],
            "text/plain": [
              "   time  event  risk_score\n",
              "6     2      1          40\n",
              "7     4      0          20"
            ]
          },
          "metadata": {
            "tags": []
          },
          "execution_count": 40
        }
      ]
    },
    {
      "cell_type": "code",
      "metadata": {
        "id": "8ob_DNl426of",
        "colab_type": "code",
        "colab": {},
        "outputId": "0a616f52-0951-4456-df2d-75d7fa975797"
      },
      "source": [
        "if df['time'][7] >= df['time'][6]:\n",
        "    print(f\"Permissible pair: Censored patient 7 lasted at least as long as uncensored patient 6\")\n",
        "else:\n",
        "    print(\"Not a permisible pair\")"
      ],
      "execution_count": null,
      "outputs": [
        {
          "output_type": "stream",
          "text": [
            "Permissible pair: Censored patient 7 lasted at least as long as uncensored patient 6\n"
          ],
          "name": "stdout"
        }
      ]
    },
    {
      "cell_type": "code",
      "metadata": {
        "id": "EnVof8fA26ol",
        "colab_type": "code",
        "colab": {},
        "outputId": "c0cb16c3-08db-4c61-8408-97dc3d1c0552"
      },
      "source": [
        "pd.concat([df.iloc[4:5],df.iloc[5:6]],axis=0)"
      ],
      "execution_count": null,
      "outputs": [
        {
          "output_type": "execute_result",
          "data": {
            "text/html": [
              "<div>\n",
              "<style scoped>\n",
              "    .dataframe tbody tr th:only-of-type {\n",
              "        vertical-align: middle;\n",
              "    }\n",
              "\n",
              "    .dataframe tbody tr th {\n",
              "        vertical-align: top;\n",
              "    }\n",
              "\n",
              "    .dataframe thead th {\n",
              "        text-align: right;\n",
              "    }\n",
              "</style>\n",
              "<table border=\"1\" class=\"dataframe\">\n",
              "  <thead>\n",
              "    <tr style=\"text-align: right;\">\n",
              "      <th></th>\n",
              "      <th>time</th>\n",
              "      <th>event</th>\n",
              "      <th>risk_score</th>\n",
              "    </tr>\n",
              "  </thead>\n",
              "  <tbody>\n",
              "    <tr>\n",
              "      <th>4</th>\n",
              "      <td>2</td>\n",
              "      <td>0</td>\n",
              "      <td>20</td>\n",
              "    </tr>\n",
              "    <tr>\n",
              "      <th>5</th>\n",
              "      <td>4</td>\n",
              "      <td>1</td>\n",
              "      <td>40</td>\n",
              "    </tr>\n",
              "  </tbody>\n",
              "</table>\n",
              "</div>"
            ],
            "text/plain": [
              "   time  event  risk_score\n",
              "4     2      0          20\n",
              "5     4      1          40"
            ]
          },
          "metadata": {
            "tags": []
          },
          "execution_count": 42
        }
      ]
    },
    {
      "cell_type": "code",
      "metadata": {
        "id": "Af2juNgd26os",
        "colab_type": "code",
        "colab": {},
        "outputId": "994d0b4d-6828-4f72-b0a2-6954ced1a0d8"
      },
      "source": [
        "if df['time'][4] >= df['time'][5]:\n",
        "    print(f\"Permissible pair\")\n",
        "else:\n",
        "    print(\"Not a permisible pair: censored patient 4 was censored before patient 5 had their event\")"
      ],
      "execution_count": null,
      "outputs": [
        {
          "output_type": "stream",
          "text": [
            "Not a permisible pair: censored patient 4 was censored before patient 5 had their event\n"
          ],
          "name": "stdout"
        }
      ]
    },
    {
      "cell_type": "markdown",
      "metadata": {
        "id": "Z7N-t0kP26oy",
        "colab_type": "text"
      },
      "source": [
        "### This is the end of this practice section.\n",
        "\n",
        "Please continue on with the lecture videos!\n",
        "\n",
        "---"
      ]
    },
    {
      "cell_type": "code",
      "metadata": {
        "id": "Je0OsNT926oz",
        "colab_type": "code",
        "colab": {}
      },
      "source": [
        ""
      ],
      "execution_count": null,
      "outputs": []
    }
  ]
}