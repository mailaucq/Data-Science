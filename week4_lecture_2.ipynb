{
  "nbformat": 4,
  "nbformat_minor": 0,
  "metadata": {
    "kernelspec": {
      "display_name": "Python 3",
      "language": "python",
      "name": "python3"
    },
    "language_info": {
      "codemirror_mode": {
        "name": "ipython",
        "version": 3
      },
      "file_extension": ".py",
      "mimetype": "text/x-python",
      "name": "python",
      "nbconvert_exporter": "python",
      "pygments_lexer": "ipython3",
      "version": "3.7.6"
    },
    "colab": {
      "name": "week4_lecture_2.ipynb",
      "provenance": []
    }
  },
  "cells": [
    {
      "cell_type": "markdown",
      "metadata": {
        "id": "81oqp3wt3TZa",
        "colab_type": "text"
      },
      "source": [
        "# AI4M Course 2 Week 4 lecture notebook"
      ]
    },
    {
      "cell_type": "markdown",
      "metadata": {
        "id": "xl8_ZR843TZe",
        "colab_type": "text"
      },
      "source": [
        "## Outline\n",
        "\n",
        "[One-hot encode categorical variables](#one-hot-encoding)\n",
        "\n",
        "[Hazard function](#hazard-function)\n",
        "\n",
        "[Permissible pairs with censoring and time](#permissible-pairs)"
      ]
    },
    {
      "cell_type": "markdown",
      "metadata": {
        "id": "8Xb3JMhW3TZk",
        "colab_type": "text"
      },
      "source": [
        "<a name=\"one-hot-encoding\"></a>\n",
        "## One-hot encode categorical variables"
      ]
    },
    {
      "cell_type": "code",
      "metadata": {
        "id": "wVURJ-C-3TZp",
        "colab_type": "code",
        "colab": {}
      },
      "source": [
        "import pandas as pd"
      ],
      "execution_count": null,
      "outputs": []
    },
    {
      "cell_type": "markdown",
      "metadata": {
        "id": "Xtjblgmq3TZ_",
        "colab_type": "text"
      },
      "source": [
        "### Which features are categorical?"
      ]
    },
    {
      "cell_type": "code",
      "metadata": {
        "id": "ODJvJ28_3TaB",
        "colab_type": "code",
        "colab": {},
        "outputId": "079ead0b-d2d6-44b3-a51a-6dfa753c2621"
      },
      "source": [
        "df = pd.DataFrame({'ascites': [0,1,0,1],\n",
        "                   'edema': [0.5,0,1,0.5],\n",
        "                   'stage': [3,4,3,4],\n",
        "                   'cholesterol': [200.5,180.2,190.5,210.3]\n",
        "                  })\n",
        "df"
      ],
      "execution_count": null,
      "outputs": [
        {
          "output_type": "execute_result",
          "data": {
            "text/html": [
              "<div>\n",
              "<style scoped>\n",
              "    .dataframe tbody tr th:only-of-type {\n",
              "        vertical-align: middle;\n",
              "    }\n",
              "\n",
              "    .dataframe tbody tr th {\n",
              "        vertical-align: top;\n",
              "    }\n",
              "\n",
              "    .dataframe thead th {\n",
              "        text-align: right;\n",
              "    }\n",
              "</style>\n",
              "<table border=\"1\" class=\"dataframe\">\n",
              "  <thead>\n",
              "    <tr style=\"text-align: right;\">\n",
              "      <th></th>\n",
              "      <th>ascites</th>\n",
              "      <th>edema</th>\n",
              "      <th>stage</th>\n",
              "      <th>cholesterol</th>\n",
              "    </tr>\n",
              "  </thead>\n",
              "  <tbody>\n",
              "    <tr>\n",
              "      <th>0</th>\n",
              "      <td>0</td>\n",
              "      <td>0.5</td>\n",
              "      <td>3</td>\n",
              "      <td>200.5</td>\n",
              "    </tr>\n",
              "    <tr>\n",
              "      <th>1</th>\n",
              "      <td>1</td>\n",
              "      <td>0.0</td>\n",
              "      <td>4</td>\n",
              "      <td>180.2</td>\n",
              "    </tr>\n",
              "    <tr>\n",
              "      <th>2</th>\n",
              "      <td>0</td>\n",
              "      <td>1.0</td>\n",
              "      <td>3</td>\n",
              "      <td>190.5</td>\n",
              "    </tr>\n",
              "    <tr>\n",
              "      <th>3</th>\n",
              "      <td>1</td>\n",
              "      <td>0.5</td>\n",
              "      <td>4</td>\n",
              "      <td>210.3</td>\n",
              "    </tr>\n",
              "  </tbody>\n",
              "</table>\n",
              "</div>"
            ],
            "text/plain": [
              "   ascites  edema  stage  cholesterol\n",
              "0        0    0.5      3        200.5\n",
              "1        1    0.0      4        180.2\n",
              "2        0    1.0      3        190.5\n",
              "3        1    0.5      4        210.3"
            ]
          },
          "metadata": {
            "tags": []
          },
          "execution_count": 2
        }
      ]
    },
    {
      "cell_type": "markdown",
      "metadata": {
        "id": "OaeR-sCq3TaQ",
        "colab_type": "text"
      },
      "source": [
        "In this small sample dataset, 'ascites', 'edema', and 'stage' are categorical variables\n",
        "- ascites: value is either 0 or 1\n",
        "- edema: value is either 0, 0.5 or 1\n",
        "- stage: is either 3 or 4\n",
        "\n",
        "'cholesterol' is a continuous variable, since it can be any decimal value greater than zero."
      ]
    },
    {
      "cell_type": "markdown",
      "metadata": {
        "id": "7dpxoQw13TaS",
        "colab_type": "text"
      },
      "source": [
        "### Which categorical variables to one-hot encode?\n",
        "\n",
        "Of the categorical variables, which one should be one-hot encoded (turned into dummy variables)?\n",
        "\n",
        "- ascites: is already 0 or 1, so there is not a need to one-hot encode it.\n",
        "    - We could one-hot encode ascites, but it is not necessary when there are just two possible values that are 0 or 1.\n",
        "    - When values are 0 or 1, 1 means a disease is present, and 0 means normal (no disease).\n",
        "- edema: Edema is swelling in any part of the body. This data set's 'edema' feature has 3 categories, so we will want to one-hot encode it so that there is one feature column for each of the three possible values.\n",
        "    - 0: No edema\n",
        "    - 0.5: Patient has edema, but did not receive diuretic therapy (which is used to treat edema)\n",
        "    - 1: Patient has edeam, despite also receiving diuretic therapy (so the condition may be more severe).\n",
        "- stage: has values of 3 and 4.  We will want to one-hot encode these because they are not values of 0 or 1.\n",
        "    - the \"stage\" of cancer is either 0, 1,2,3 or 4.  \n",
        "    - Stage 0 means there is no cancer.  \n",
        "    - Stage 1 is cancer that is limited to a small area of the body, also known as \"early stage cancer\"\n",
        "    - Stage 2 is cancer that has spread to nearby tissues\n",
        "    - stage 3 is cancer that has spread to nearby tissues, but more so than stage 2\n",
        "    - stage 4 is cancer that has spread to distant parts of the body, also known as \"metastatic cancer\".\n",
        "    - We could convert stage 3 to 0 and stage 4 to 1 for the sake of training a model.  This would may be confusing for anyone reviewing our code and data.  We will one-hot encode the 'stage'.\n",
        "        -You'll actually see that we end up with 0 representing stage 3 and 1 representing stage 4 (see the next section)."
      ]
    },
    {
      "cell_type": "markdown",
      "metadata": {
        "id": "Nq5TuJEc3TaT",
        "colab_type": "text"
      },
      "source": [
        "### Multi-collinearity of one-hot encoded features\n",
        "\n",
        "Let's see what happens when we one-hot encode the 'stage' feature.\n",
        "\n",
        "We'll use [pandas.get_dummies](https://pandas.pydata.org/pandas-docs/stable/reference/api/pandas.get_dummies.html)"
      ]
    },
    {
      "cell_type": "code",
      "metadata": {
        "id": "K73etpbx3TaY",
        "colab_type": "code",
        "colab": {},
        "outputId": "894e3647-4389-4a5c-91ea-105adf3e71b5"
      },
      "source": [
        "df_stage = pd.get_dummies(data=df,\n",
        "               columns=['stage']\n",
        "              )\n",
        "df_stage[['stage_3','stage_4']]"
      ],
      "execution_count": null,
      "outputs": [
        {
          "output_type": "execute_result",
          "data": {
            "text/html": [
              "<div>\n",
              "<style scoped>\n",
              "    .dataframe tbody tr th:only-of-type {\n",
              "        vertical-align: middle;\n",
              "    }\n",
              "\n",
              "    .dataframe tbody tr th {\n",
              "        vertical-align: top;\n",
              "    }\n",
              "\n",
              "    .dataframe thead th {\n",
              "        text-align: right;\n",
              "    }\n",
              "</style>\n",
              "<table border=\"1\" class=\"dataframe\">\n",
              "  <thead>\n",
              "    <tr style=\"text-align: right;\">\n",
              "      <th></th>\n",
              "      <th>stage_3</th>\n",
              "      <th>stage_4</th>\n",
              "    </tr>\n",
              "  </thead>\n",
              "  <tbody>\n",
              "    <tr>\n",
              "      <th>0</th>\n",
              "      <td>1</td>\n",
              "      <td>0</td>\n",
              "    </tr>\n",
              "    <tr>\n",
              "      <th>1</th>\n",
              "      <td>0</td>\n",
              "      <td>1</td>\n",
              "    </tr>\n",
              "    <tr>\n",
              "      <th>2</th>\n",
              "      <td>1</td>\n",
              "      <td>0</td>\n",
              "    </tr>\n",
              "    <tr>\n",
              "      <th>3</th>\n",
              "      <td>0</td>\n",
              "      <td>1</td>\n",
              "    </tr>\n",
              "  </tbody>\n",
              "</table>\n",
              "</div>"
            ],
            "text/plain": [
              "   stage_3  stage_4\n",
              "0        1        0\n",
              "1        0        1\n",
              "2        1        0\n",
              "3        0        1"
            ]
          },
          "metadata": {
            "tags": []
          },
          "execution_count": 3
        }
      ]
    },
    {
      "cell_type": "markdown",
      "metadata": {
        "id": "CoHafz4v3Tap",
        "colab_type": "text"
      },
      "source": [
        "What do you notice about the 'stage_3' and 'stage_4' features?\n",
        "\n",
        "Given that stage 3 and stage 4 are the only possible values for stage,  \n",
        "If you know that patient 0 (row 0) has stage_3 set to 1, \n",
        "what can you say about that same patient's value for the stage_4 feature?\n",
        "- When stage_3 is 1, then stage_4 must be 0\n",
        "- When stage_3 is 0, then stage_4 must be 1\n",
        "\n",
        "This means that one of the feature columns is actually redundant.  We should drop one of these features to avoid multicollinearity (where one feature can predict another feature)."
      ]
    },
    {
      "cell_type": "code",
      "metadata": {
        "id": "uJEU8tmp3Tas",
        "colab_type": "code",
        "colab": {},
        "outputId": "7f50a87e-ae0f-4604-cd7c-0d2579c8c6c7"
      },
      "source": [
        "df_stage"
      ],
      "execution_count": null,
      "outputs": [
        {
          "output_type": "execute_result",
          "data": {
            "text/html": [
              "<div>\n",
              "<style scoped>\n",
              "    .dataframe tbody tr th:only-of-type {\n",
              "        vertical-align: middle;\n",
              "    }\n",
              "\n",
              "    .dataframe tbody tr th {\n",
              "        vertical-align: top;\n",
              "    }\n",
              "\n",
              "    .dataframe thead th {\n",
              "        text-align: right;\n",
              "    }\n",
              "</style>\n",
              "<table border=\"1\" class=\"dataframe\">\n",
              "  <thead>\n",
              "    <tr style=\"text-align: right;\">\n",
              "      <th></th>\n",
              "      <th>ascites</th>\n",
              "      <th>edema</th>\n",
              "      <th>cholesterol</th>\n",
              "      <th>stage_3</th>\n",
              "      <th>stage_4</th>\n",
              "    </tr>\n",
              "  </thead>\n",
              "  <tbody>\n",
              "    <tr>\n",
              "      <th>0</th>\n",
              "      <td>0</td>\n",
              "      <td>0.5</td>\n",
              "      <td>200.5</td>\n",
              "      <td>1</td>\n",
              "      <td>0</td>\n",
              "    </tr>\n",
              "    <tr>\n",
              "      <th>1</th>\n",
              "      <td>1</td>\n",
              "      <td>0.0</td>\n",
              "      <td>180.2</td>\n",
              "      <td>0</td>\n",
              "      <td>1</td>\n",
              "    </tr>\n",
              "    <tr>\n",
              "      <th>2</th>\n",
              "      <td>0</td>\n",
              "      <td>1.0</td>\n",
              "      <td>190.5</td>\n",
              "      <td>1</td>\n",
              "      <td>0</td>\n",
              "    </tr>\n",
              "    <tr>\n",
              "      <th>3</th>\n",
              "      <td>1</td>\n",
              "      <td>0.5</td>\n",
              "      <td>210.3</td>\n",
              "      <td>0</td>\n",
              "      <td>1</td>\n",
              "    </tr>\n",
              "  </tbody>\n",
              "</table>\n",
              "</div>"
            ],
            "text/plain": [
              "   ascites  edema  cholesterol  stage_3  stage_4\n",
              "0        0    0.5        200.5        1        0\n",
              "1        1    0.0        180.2        0        1\n",
              "2        0    1.0        190.5        1        0\n",
              "3        1    0.5        210.3        0        1"
            ]
          },
          "metadata": {
            "tags": []
          },
          "execution_count": 4
        }
      ]
    },
    {
      "cell_type": "code",
      "metadata": {
        "id": "37WLNZMM3Ta2",
        "colab_type": "code",
        "colab": {},
        "outputId": "1e9fc63a-de3e-4b73-bf4a-d40222ab5c82"
      },
      "source": [
        "df_stage_drop_first = df_stage.drop(columns='stage_3')\n",
        "df_stage_drop_first"
      ],
      "execution_count": null,
      "outputs": [
        {
          "output_type": "execute_result",
          "data": {
            "text/html": [
              "<div>\n",
              "<style scoped>\n",
              "    .dataframe tbody tr th:only-of-type {\n",
              "        vertical-align: middle;\n",
              "    }\n",
              "\n",
              "    .dataframe tbody tr th {\n",
              "        vertical-align: top;\n",
              "    }\n",
              "\n",
              "    .dataframe thead th {\n",
              "        text-align: right;\n",
              "    }\n",
              "</style>\n",
              "<table border=\"1\" class=\"dataframe\">\n",
              "  <thead>\n",
              "    <tr style=\"text-align: right;\">\n",
              "      <th></th>\n",
              "      <th>ascites</th>\n",
              "      <th>edema</th>\n",
              "      <th>cholesterol</th>\n",
              "      <th>stage_4</th>\n",
              "    </tr>\n",
              "  </thead>\n",
              "  <tbody>\n",
              "    <tr>\n",
              "      <th>0</th>\n",
              "      <td>0</td>\n",
              "      <td>0.5</td>\n",
              "      <td>200.5</td>\n",
              "      <td>0</td>\n",
              "    </tr>\n",
              "    <tr>\n",
              "      <th>1</th>\n",
              "      <td>1</td>\n",
              "      <td>0.0</td>\n",
              "      <td>180.2</td>\n",
              "      <td>1</td>\n",
              "    </tr>\n",
              "    <tr>\n",
              "      <th>2</th>\n",
              "      <td>0</td>\n",
              "      <td>1.0</td>\n",
              "      <td>190.5</td>\n",
              "      <td>0</td>\n",
              "    </tr>\n",
              "    <tr>\n",
              "      <th>3</th>\n",
              "      <td>1</td>\n",
              "      <td>0.5</td>\n",
              "      <td>210.3</td>\n",
              "      <td>1</td>\n",
              "    </tr>\n",
              "  </tbody>\n",
              "</table>\n",
              "</div>"
            ],
            "text/plain": [
              "   ascites  edema  cholesterol  stage_4\n",
              "0        0    0.5        200.5        0\n",
              "1        1    0.0        180.2        1\n",
              "2        0    1.0        190.5        0\n",
              "3        1    0.5        210.3        1"
            ]
          },
          "metadata": {
            "tags": []
          },
          "execution_count": 5
        }
      ]
    },
    {
      "cell_type": "markdown",
      "metadata": {
        "id": "VD4cDdhH3TbG",
        "colab_type": "text"
      },
      "source": [
        "Note, there's actually a parameter of pandas.get_dummies() that lets you drop the first one-hot encoded column.  You'll practice doing this in this week's assignment!"
      ]
    },
    {
      "cell_type": "markdown",
      "metadata": {
        "id": "zIDACPsu3TbK",
        "colab_type": "text"
      },
      "source": [
        "### Make the numbers decimals\n",
        "\n",
        "We can cast the one-hot encoded values as floats by setting the data type to numpy.float64.\n",
        "- This is helpful if we are feeding data into a model, where the model expects a certain data type (such as a 64-bit float, 32-bit float etc.)"
      ]
    },
    {
      "cell_type": "code",
      "metadata": {
        "id": "--TRYfoz3TbN",
        "colab_type": "code",
        "colab": {}
      },
      "source": [
        "import numpy as np"
      ],
      "execution_count": null,
      "outputs": []
    },
    {
      "cell_type": "code",
      "metadata": {
        "id": "B4ZFWn-03TbV",
        "colab_type": "code",
        "colab": {},
        "outputId": "02815dad-ff67-4280-dd23-dfc2116a15c9"
      },
      "source": [
        "df_stage = pd.get_dummies(data=df,\n",
        "               columns=['stage'],\n",
        "              )\n",
        "df_stage[['stage_4']]"
      ],
      "execution_count": null,
      "outputs": [
        {
          "output_type": "execute_result",
          "data": {
            "text/html": [
              "<div>\n",
              "<style scoped>\n",
              "    .dataframe tbody tr th:only-of-type {\n",
              "        vertical-align: middle;\n",
              "    }\n",
              "\n",
              "    .dataframe tbody tr th {\n",
              "        vertical-align: top;\n",
              "    }\n",
              "\n",
              "    .dataframe thead th {\n",
              "        text-align: right;\n",
              "    }\n",
              "</style>\n",
              "<table border=\"1\" class=\"dataframe\">\n",
              "  <thead>\n",
              "    <tr style=\"text-align: right;\">\n",
              "      <th></th>\n",
              "      <th>stage_4</th>\n",
              "    </tr>\n",
              "  </thead>\n",
              "  <tbody>\n",
              "    <tr>\n",
              "      <th>0</th>\n",
              "      <td>0</td>\n",
              "    </tr>\n",
              "    <tr>\n",
              "      <th>1</th>\n",
              "      <td>1</td>\n",
              "    </tr>\n",
              "    <tr>\n",
              "      <th>2</th>\n",
              "      <td>0</td>\n",
              "    </tr>\n",
              "    <tr>\n",
              "      <th>3</th>\n",
              "      <td>1</td>\n",
              "    </tr>\n",
              "  </tbody>\n",
              "</table>\n",
              "</div>"
            ],
            "text/plain": [
              "   stage_4\n",
              "0        0\n",
              "1        1\n",
              "2        0\n",
              "3        1"
            ]
          },
          "metadata": {
            "tags": []
          },
          "execution_count": 7
        }
      ]
    },
    {
      "cell_type": "code",
      "metadata": {
        "id": "qkqHOD3Y3Tbg",
        "colab_type": "code",
        "colab": {},
        "outputId": "b14fc4be-3908-4ced-9f68-ba0e84d55c72"
      },
      "source": [
        "df_stage_float64 = pd.get_dummies(data=df,\n",
        "               columns=['stage'],\n",
        "               dtype=np.float64\n",
        "              )\n",
        "df_stage_float64[['stage_4']]"
      ],
      "execution_count": null,
      "outputs": [
        {
          "output_type": "execute_result",
          "data": {
            "text/html": [
              "<div>\n",
              "<style scoped>\n",
              "    .dataframe tbody tr th:only-of-type {\n",
              "        vertical-align: middle;\n",
              "    }\n",
              "\n",
              "    .dataframe tbody tr th {\n",
              "        vertical-align: top;\n",
              "    }\n",
              "\n",
              "    .dataframe thead th {\n",
              "        text-align: right;\n",
              "    }\n",
              "</style>\n",
              "<table border=\"1\" class=\"dataframe\">\n",
              "  <thead>\n",
              "    <tr style=\"text-align: right;\">\n",
              "      <th></th>\n",
              "      <th>stage_4</th>\n",
              "    </tr>\n",
              "  </thead>\n",
              "  <tbody>\n",
              "    <tr>\n",
              "      <th>0</th>\n",
              "      <td>0.0</td>\n",
              "    </tr>\n",
              "    <tr>\n",
              "      <th>1</th>\n",
              "      <td>1.0</td>\n",
              "    </tr>\n",
              "    <tr>\n",
              "      <th>2</th>\n",
              "      <td>0.0</td>\n",
              "    </tr>\n",
              "    <tr>\n",
              "      <th>3</th>\n",
              "      <td>1.0</td>\n",
              "    </tr>\n",
              "  </tbody>\n",
              "</table>\n",
              "</div>"
            ],
            "text/plain": [
              "   stage_4\n",
              "0      0.0\n",
              "1      1.0\n",
              "2      0.0\n",
              "3      1.0"
            ]
          },
          "metadata": {
            "tags": []
          },
          "execution_count": 8
        }
      ]
    },
    {
      "cell_type": "markdown",
      "metadata": {
        "id": "zyst1Xfi3Tbu",
        "colab_type": "text"
      },
      "source": [
        "### This is the end of this practice section.\n",
        "\n",
        "Please continue on with the lecture videos!\n",
        "\n",
        "---"
      ]
    },
    {
      "cell_type": "markdown",
      "metadata": {
        "id": "kRe2xGSs3Tbw",
        "colab_type": "text"
      },
      "source": [
        "<a name=\"hazard-function\"></a>\n",
        "## Hazard function"
      ]
    },
    {
      "cell_type": "markdown",
      "metadata": {
        "id": "2D1Q6ip13Tbx",
        "colab_type": "text"
      },
      "source": [
        "Let's say we fit the hazard function\n",
        "$$\n",
        "\\lambda(t, x) = \\lambda_0(t)e^{\\theta^T X_i}\n",
        "$$\n",
        "\n",
        "So that we have the coefficients $\\theta$ for the features in $X_i$\n",
        "\n",
        "If you have a new patient, let's predict their hazard $\\lambda(t,x)$"
      ]
    },
    {
      "cell_type": "code",
      "metadata": {
        "id": "OCP-uDaB3Tbz",
        "colab_type": "code",
        "colab": {}
      },
      "source": [
        "import numpy as np\n",
        "import pandas as pd"
      ],
      "execution_count": null,
      "outputs": []
    },
    {
      "cell_type": "code",
      "metadata": {
        "id": "qIm3V-lr3Tb9",
        "colab_type": "code",
        "colab": {},
        "outputId": "f5837b36-4175-4007-cc27-802a18b990d7"
      },
      "source": [
        "lambda_0 = 1\n",
        "coef = np.array([0.5,2.])\n",
        "coef"
      ],
      "execution_count": null,
      "outputs": [
        {
          "output_type": "execute_result",
          "data": {
            "text/plain": [
              "array([0.5, 2. ])"
            ]
          },
          "metadata": {
            "tags": []
          },
          "execution_count": 10
        }
      ]
    },
    {
      "cell_type": "code",
      "metadata": {
        "id": "9PKLS67l3TcK",
        "colab_type": "code",
        "colab": {},
        "outputId": "493ee9ae-f07b-4af6-9516-ee1dba74cb51"
      },
      "source": [
        "X = pd.DataFrame({'age': [20,30,40],\n",
        "                  'cholesterol': [180,220,170]\n",
        "                 })\n",
        "X"
      ],
      "execution_count": null,
      "outputs": [
        {
          "output_type": "execute_result",
          "data": {
            "text/html": [
              "<div>\n",
              "<style scoped>\n",
              "    .dataframe tbody tr th:only-of-type {\n",
              "        vertical-align: middle;\n",
              "    }\n",
              "\n",
              "    .dataframe tbody tr th {\n",
              "        vertical-align: top;\n",
              "    }\n",
              "\n",
              "    .dataframe thead th {\n",
              "        text-align: right;\n",
              "    }\n",
              "</style>\n",
              "<table border=\"1\" class=\"dataframe\">\n",
              "  <thead>\n",
              "    <tr style=\"text-align: right;\">\n",
              "      <th></th>\n",
              "      <th>age</th>\n",
              "      <th>cholesterol</th>\n",
              "    </tr>\n",
              "  </thead>\n",
              "  <tbody>\n",
              "    <tr>\n",
              "      <th>0</th>\n",
              "      <td>20</td>\n",
              "      <td>180</td>\n",
              "    </tr>\n",
              "    <tr>\n",
              "      <th>1</th>\n",
              "      <td>30</td>\n",
              "      <td>220</td>\n",
              "    </tr>\n",
              "    <tr>\n",
              "      <th>2</th>\n",
              "      <td>40</td>\n",
              "      <td>170</td>\n",
              "    </tr>\n",
              "  </tbody>\n",
              "</table>\n",
              "</div>"
            ],
            "text/plain": [
              "   age  cholesterol\n",
              "0   20          180\n",
              "1   30          220\n",
              "2   40          170"
            ]
          },
          "metadata": {
            "tags": []
          },
          "execution_count": 11
        }
      ]
    },
    {
      "cell_type": "markdown",
      "metadata": {
        "id": "z_TATo2x3TcW",
        "colab_type": "text"
      },
      "source": [
        "- First, let's multiply the coefficients to the features.\n",
        "- Check the shapes of the coefficients and the features to decide which one to transpose"
      ]
    },
    {
      "cell_type": "code",
      "metadata": {
        "id": "pQ0Or2Cc3TcW",
        "colab_type": "code",
        "colab": {},
        "outputId": "ce348a30-bdb3-4235-8070-5723785dfc39"
      },
      "source": [
        "coef.shape"
      ],
      "execution_count": null,
      "outputs": [
        {
          "output_type": "execute_result",
          "data": {
            "text/plain": [
              "(2,)"
            ]
          },
          "metadata": {
            "tags": []
          },
          "execution_count": 12
        }
      ]
    },
    {
      "cell_type": "code",
      "metadata": {
        "id": "w99OrcD93Tcg",
        "colab_type": "code",
        "colab": {},
        "outputId": "a3f8ed13-d97b-48cb-9ad1-77113e9ca386"
      },
      "source": [
        "X.shape"
      ],
      "execution_count": null,
      "outputs": [
        {
          "output_type": "execute_result",
          "data": {
            "text/plain": [
              "(3, 2)"
            ]
          },
          "metadata": {
            "tags": []
          },
          "execution_count": 13
        }
      ]
    },
    {
      "cell_type": "markdown",
      "metadata": {
        "id": "moz9PXpb3Tcp",
        "colab_type": "text"
      },
      "source": [
        "It looks like the coefficient is a 1D array, so transposing it won't do anything.  \n",
        "- We can transpose the X so that we're multiplying a (2,) array by a (2,3) dataframe.\n",
        "\n",
        "So the formula looks more like this (transpose $X_i$ instead of $\\theta$\n",
        "$$\n",
        "\\lambda(t, x) = \\lambda_0(t)e^{\\theta X_i^T}\n",
        "$$\n",
        "\n",
        "- Let's multiply $\\theta X_i^T$"
      ]
    },
    {
      "cell_type": "code",
      "metadata": {
        "id": "JOpWbJc43Tcr",
        "colab_type": "code",
        "colab": {},
        "outputId": "91f3bcdb-17b3-4ba4-a784-2f087b3f3742"
      },
      "source": [
        "np.dot(coef,X.T)"
      ],
      "execution_count": null,
      "outputs": [
        {
          "output_type": "execute_result",
          "data": {
            "text/plain": [
              "array([370., 455., 360.])"
            ]
          },
          "metadata": {
            "tags": []
          },
          "execution_count": 14
        }
      ]
    },
    {
      "cell_type": "markdown",
      "metadata": {
        "id": "S_AUYtrw3Tc1",
        "colab_type": "text"
      },
      "source": [
        "Calculate the hazard for the three patients (there are 3 rows in X)"
      ]
    },
    {
      "cell_type": "code",
      "metadata": {
        "id": "RLBIPefp3Tc2",
        "colab_type": "code",
        "colab": {},
        "outputId": "24db382f-5e47-4beb-bfd6-bd32a2a92526"
      },
      "source": [
        "lambdas = lambda_0 * np.exp(np.dot(coef,X.T))\n",
        "patients_df = X.copy()\n",
        "patients_df['hazards'] = lambdas\n",
        "patients_df"
      ],
      "execution_count": null,
      "outputs": [
        {
          "output_type": "execute_result",
          "data": {
            "text/html": [
              "<div>\n",
              "<style scoped>\n",
              "    .dataframe tbody tr th:only-of-type {\n",
              "        vertical-align: middle;\n",
              "    }\n",
              "\n",
              "    .dataframe tbody tr th {\n",
              "        vertical-align: top;\n",
              "    }\n",
              "\n",
              "    .dataframe thead th {\n",
              "        text-align: right;\n",
              "    }\n",
              "</style>\n",
              "<table border=\"1\" class=\"dataframe\">\n",
              "  <thead>\n",
              "    <tr style=\"text-align: right;\">\n",
              "      <th></th>\n",
              "      <th>age</th>\n",
              "      <th>cholesterol</th>\n",
              "      <th>hazards</th>\n",
              "    </tr>\n",
              "  </thead>\n",
              "  <tbody>\n",
              "    <tr>\n",
              "      <th>0</th>\n",
              "      <td>20</td>\n",
              "      <td>180</td>\n",
              "      <td>4.886054e+160</td>\n",
              "    </tr>\n",
              "    <tr>\n",
              "      <th>1</th>\n",
              "      <td>30</td>\n",
              "      <td>220</td>\n",
              "      <td>4.017809e+197</td>\n",
              "    </tr>\n",
              "    <tr>\n",
              "      <th>2</th>\n",
              "      <td>40</td>\n",
              "      <td>170</td>\n",
              "      <td>2.218265e+156</td>\n",
              "    </tr>\n",
              "  </tbody>\n",
              "</table>\n",
              "</div>"
            ],
            "text/plain": [
              "   age  cholesterol        hazards\n",
              "0   20          180  4.886054e+160\n",
              "1   30          220  4.017809e+197\n",
              "2   40          170  2.218265e+156"
            ]
          },
          "metadata": {
            "tags": []
          },
          "execution_count": 15
        }
      ]
    },
    {
      "cell_type": "markdown",
      "metadata": {
        "id": "4S7iAOCM3Tc_",
        "colab_type": "text"
      },
      "source": [
        "### This is the end of this practice section.\n",
        "\n",
        "Please continue on with the lecture videos!\n",
        "\n",
        "---"
      ]
    },
    {
      "cell_type": "markdown",
      "metadata": {
        "id": "acDfUWXu3TdA",
        "colab_type": "text"
      },
      "source": [
        "<a name=\"permissible-pairs\"></a>\n",
        "## Permissible pairs with censoring and time"
      ]
    },
    {
      "cell_type": "code",
      "metadata": {
        "id": "zuVosLyw3TdD",
        "colab_type": "code",
        "colab": {}
      },
      "source": [
        "import pandas as pd"
      ],
      "execution_count": null,
      "outputs": []
    },
    {
      "cell_type": "code",
      "metadata": {
        "id": "zVu5IZP83TdJ",
        "colab_type": "code",
        "colab": {},
        "outputId": "e58a14e8-ba6c-426a-b808-78996fcf8dfb"
      },
      "source": [
        "df = pd.DataFrame({'time': [2,4,2,4,2,4,2,4],\n",
        "                   'event': [1,1,1,1,0,1,1,0],\n",
        "                   'risk_score': [20,40,40,20,20,40,40,20] \n",
        "                  })\n",
        "df"
      ],
      "execution_count": null,
      "outputs": [
        {
          "output_type": "execute_result",
          "data": {
            "text/html": [
              "<div>\n",
              "<style scoped>\n",
              "    .dataframe tbody tr th:only-of-type {\n",
              "        vertical-align: middle;\n",
              "    }\n",
              "\n",
              "    .dataframe tbody tr th {\n",
              "        vertical-align: top;\n",
              "    }\n",
              "\n",
              "    .dataframe thead th {\n",
              "        text-align: right;\n",
              "    }\n",
              "</style>\n",
              "<table border=\"1\" class=\"dataframe\">\n",
              "  <thead>\n",
              "    <tr style=\"text-align: right;\">\n",
              "      <th></th>\n",
              "      <th>time</th>\n",
              "      <th>event</th>\n",
              "      <th>risk_score</th>\n",
              "    </tr>\n",
              "  </thead>\n",
              "  <tbody>\n",
              "    <tr>\n",
              "      <th>0</th>\n",
              "      <td>2</td>\n",
              "      <td>1</td>\n",
              "      <td>20</td>\n",
              "    </tr>\n",
              "    <tr>\n",
              "      <th>1</th>\n",
              "      <td>4</td>\n",
              "      <td>1</td>\n",
              "      <td>40</td>\n",
              "    </tr>\n",
              "    <tr>\n",
              "      <th>2</th>\n",
              "      <td>2</td>\n",
              "      <td>1</td>\n",
              "      <td>40</td>\n",
              "    </tr>\n",
              "    <tr>\n",
              "      <th>3</th>\n",
              "      <td>4</td>\n",
              "      <td>1</td>\n",
              "      <td>20</td>\n",
              "    </tr>\n",
              "    <tr>\n",
              "      <th>4</th>\n",
              "      <td>2</td>\n",
              "      <td>0</td>\n",
              "      <td>20</td>\n",
              "    </tr>\n",
              "    <tr>\n",
              "      <th>5</th>\n",
              "      <td>4</td>\n",
              "      <td>1</td>\n",
              "      <td>40</td>\n",
              "    </tr>\n",
              "    <tr>\n",
              "      <th>6</th>\n",
              "      <td>2</td>\n",
              "      <td>1</td>\n",
              "      <td>40</td>\n",
              "    </tr>\n",
              "    <tr>\n",
              "      <th>7</th>\n",
              "      <td>4</td>\n",
              "      <td>0</td>\n",
              "      <td>20</td>\n",
              "    </tr>\n",
              "  </tbody>\n",
              "</table>\n",
              "</div>"
            ],
            "text/plain": [
              "   time  event  risk_score\n",
              "0     2      1          20\n",
              "1     4      1          40\n",
              "2     2      1          40\n",
              "3     4      1          20\n",
              "4     2      0          20\n",
              "5     4      1          40\n",
              "6     2      1          40\n",
              "7     4      0          20"
            ]
          },
          "metadata": {
            "tags": []
          },
          "execution_count": 17
        }
      ]
    },
    {
      "cell_type": "markdown",
      "metadata": {
        "id": "rM30LKlG3TdS",
        "colab_type": "text"
      },
      "source": [
        "We made this data sample so that you can compare pairs of patients visually."
      ]
    },
    {
      "cell_type": "markdown",
      "metadata": {
        "id": "KdVGwUWE3TdS",
        "colab_type": "text"
      },
      "source": [
        "### When at least one patient is not censored\n",
        "- A pair may be permissible if at least one patient is not censored.\n",
        "- If both pairs of patients are censored, then they are definitely not a permissible pair."
      ]
    },
    {
      "cell_type": "code",
      "metadata": {
        "id": "5q4KHRQV3TdU",
        "colab_type": "code",
        "colab": {},
        "outputId": "1b655af9-a7fd-42f5-a524-9105cdfa7422"
      },
      "source": [
        "pd.concat([df.iloc[0:1],df.iloc[1:2]],axis=0)"
      ],
      "execution_count": null,
      "outputs": [
        {
          "output_type": "execute_result",
          "data": {
            "text/html": [
              "<div>\n",
              "<style scoped>\n",
              "    .dataframe tbody tr th:only-of-type {\n",
              "        vertical-align: middle;\n",
              "    }\n",
              "\n",
              "    .dataframe tbody tr th {\n",
              "        vertical-align: top;\n",
              "    }\n",
              "\n",
              "    .dataframe thead th {\n",
              "        text-align: right;\n",
              "    }\n",
              "</style>\n",
              "<table border=\"1\" class=\"dataframe\">\n",
              "  <thead>\n",
              "    <tr style=\"text-align: right;\">\n",
              "      <th></th>\n",
              "      <th>time</th>\n",
              "      <th>event</th>\n",
              "      <th>risk_score</th>\n",
              "    </tr>\n",
              "  </thead>\n",
              "  <tbody>\n",
              "    <tr>\n",
              "      <th>0</th>\n",
              "      <td>2</td>\n",
              "      <td>1</td>\n",
              "      <td>20</td>\n",
              "    </tr>\n",
              "    <tr>\n",
              "      <th>1</th>\n",
              "      <td>4</td>\n",
              "      <td>1</td>\n",
              "      <td>40</td>\n",
              "    </tr>\n",
              "  </tbody>\n",
              "</table>\n",
              "</div>"
            ],
            "text/plain": [
              "   time  event  risk_score\n",
              "0     2      1          20\n",
              "1     4      1          40"
            ]
          },
          "metadata": {
            "tags": []
          },
          "execution_count": 18
        }
      ]
    },
    {
      "cell_type": "code",
      "metadata": {
        "id": "rioDpy8f3Tdl",
        "colab_type": "code",
        "colab": {},
        "outputId": "061ef0c1-9f88-4c41-8af3-032e11340f89"
      },
      "source": [
        "if df['event'][0] == 1 or df['event'][1] == 1:\n",
        "    print(f\"May be a permissible pair: 0 and 1\")\n",
        "else:\n",
        "    print(f\"Definitely not permissible pair: 0 and 1\")"
      ],
      "execution_count": null,
      "outputs": [
        {
          "output_type": "stream",
          "text": [
            "May be a permissible pair: 0 and 1\n"
          ],
          "name": "stdout"
        }
      ]
    },
    {
      "cell_type": "code",
      "metadata": {
        "id": "zNfKoBip3Tds",
        "colab_type": "code",
        "colab": {},
        "outputId": "8c984221-81e9-4ec2-ffc5-dabd50d11171"
      },
      "source": [
        "pd.concat([df.iloc[4:5],df.iloc[7:8]],axis=0)"
      ],
      "execution_count": null,
      "outputs": [
        {
          "output_type": "execute_result",
          "data": {
            "text/html": [
              "<div>\n",
              "<style scoped>\n",
              "    .dataframe tbody tr th:only-of-type {\n",
              "        vertical-align: middle;\n",
              "    }\n",
              "\n",
              "    .dataframe tbody tr th {\n",
              "        vertical-align: top;\n",
              "    }\n",
              "\n",
              "    .dataframe thead th {\n",
              "        text-align: right;\n",
              "    }\n",
              "</style>\n",
              "<table border=\"1\" class=\"dataframe\">\n",
              "  <thead>\n",
              "    <tr style=\"text-align: right;\">\n",
              "      <th></th>\n",
              "      <th>time</th>\n",
              "      <th>event</th>\n",
              "      <th>risk_score</th>\n",
              "    </tr>\n",
              "  </thead>\n",
              "  <tbody>\n",
              "    <tr>\n",
              "      <th>4</th>\n",
              "      <td>2</td>\n",
              "      <td>0</td>\n",
              "      <td>20</td>\n",
              "    </tr>\n",
              "    <tr>\n",
              "      <th>7</th>\n",
              "      <td>4</td>\n",
              "      <td>0</td>\n",
              "      <td>20</td>\n",
              "    </tr>\n",
              "  </tbody>\n",
              "</table>\n",
              "</div>"
            ],
            "text/plain": [
              "   time  event  risk_score\n",
              "4     2      0          20\n",
              "7     4      0          20"
            ]
          },
          "metadata": {
            "tags": []
          },
          "execution_count": 20
        }
      ]
    },
    {
      "cell_type": "code",
      "metadata": {
        "id": "IJ79BIyh3Td1",
        "colab_type": "code",
        "colab": {},
        "outputId": "c55fe7a0-6ab9-48d1-f95b-5f2689fd10cd"
      },
      "source": [
        "if df['event'][4] == 1 or df['event'][7] == 1:\n",
        "    print(f\"May be a permissible pair: 4 and 7\")\n",
        "else:\n",
        "    print(f\"Definitely not permissible pair: 4 and 7\")"
      ],
      "execution_count": null,
      "outputs": [
        {
          "output_type": "stream",
          "text": [
            "Definitely not permissible pair: 4 and 7\n"
          ],
          "name": "stdout"
        }
      ]
    },
    {
      "cell_type": "markdown",
      "metadata": {
        "id": "ZQmh7go_3Td-",
        "colab_type": "text"
      },
      "source": [
        "### If neither patient was censored:\n",
        "- If both patients had an event (neither one was censored). This is definitely a permissible pair."
      ]
    },
    {
      "cell_type": "code",
      "metadata": {
        "id": "6Ep67eYk3TeD",
        "colab_type": "code",
        "colab": {},
        "outputId": "0de471e3-4e9d-4943-bcad-2d98421cb9ee"
      },
      "source": [
        "pd.concat([df.iloc[0:1],df.iloc[1:2]],axis=0)"
      ],
      "execution_count": null,
      "outputs": [
        {
          "output_type": "execute_result",
          "data": {
            "text/html": [
              "<div>\n",
              "<style scoped>\n",
              "    .dataframe tbody tr th:only-of-type {\n",
              "        vertical-align: middle;\n",
              "    }\n",
              "\n",
              "    .dataframe tbody tr th {\n",
              "        vertical-align: top;\n",
              "    }\n",
              "\n",
              "    .dataframe thead th {\n",
              "        text-align: right;\n",
              "    }\n",
              "</style>\n",
              "<table border=\"1\" class=\"dataframe\">\n",
              "  <thead>\n",
              "    <tr style=\"text-align: right;\">\n",
              "      <th></th>\n",
              "      <th>time</th>\n",
              "      <th>event</th>\n",
              "      <th>risk_score</th>\n",
              "    </tr>\n",
              "  </thead>\n",
              "  <tbody>\n",
              "    <tr>\n",
              "      <th>0</th>\n",
              "      <td>2</td>\n",
              "      <td>1</td>\n",
              "      <td>20</td>\n",
              "    </tr>\n",
              "    <tr>\n",
              "      <th>1</th>\n",
              "      <td>4</td>\n",
              "      <td>1</td>\n",
              "      <td>40</td>\n",
              "    </tr>\n",
              "  </tbody>\n",
              "</table>\n",
              "</div>"
            ],
            "text/plain": [
              "   time  event  risk_score\n",
              "0     2      1          20\n",
              "1     4      1          40"
            ]
          },
          "metadata": {
            "tags": []
          },
          "execution_count": 22
        }
      ]
    },
    {
      "cell_type": "code",
      "metadata": {
        "id": "4h8a-Ok53TeM",
        "colab_type": "code",
        "colab": {},
        "outputId": "c8bb2349-30e0-4a6c-aeec-33cd4b2b1c91"
      },
      "source": [
        "if df['event'][0] == 1 and df['event'][1] == 1:\n",
        "    print(f\"Definitely a permissible pair: 0 and 1\")\n",
        "else:\n",
        "    print(f\"May be a permissible pair: 0 and 1\")"
      ],
      "execution_count": null,
      "outputs": [
        {
          "output_type": "stream",
          "text": [
            "Definitely a permissible pair: 0 and 1\n"
          ],
          "name": "stdout"
        }
      ]
    },
    {
      "cell_type": "markdown",
      "metadata": {
        "id": "-6iBtmwy3TeU",
        "colab_type": "text"
      },
      "source": [
        "### When one patient is censored:\n",
        "- If we know that one patient was censored and one had an event, then we can check if censored patient's time is at least as great as the uncensored patient's time.  If so, it's a permissible pair as well"
      ]
    },
    {
      "cell_type": "code",
      "metadata": {
        "id": "o5-sHOM33TeV",
        "colab_type": "code",
        "colab": {},
        "outputId": "bc60790a-f75a-4f70-8434-376608828902"
      },
      "source": [
        "pd.concat([df.iloc[6:7],df.iloc[7:8]],axis=0)"
      ],
      "execution_count": null,
      "outputs": [
        {
          "output_type": "execute_result",
          "data": {
            "text/html": [
              "<div>\n",
              "<style scoped>\n",
              "    .dataframe tbody tr th:only-of-type {\n",
              "        vertical-align: middle;\n",
              "    }\n",
              "\n",
              "    .dataframe tbody tr th {\n",
              "        vertical-align: top;\n",
              "    }\n",
              "\n",
              "    .dataframe thead th {\n",
              "        text-align: right;\n",
              "    }\n",
              "</style>\n",
              "<table border=\"1\" class=\"dataframe\">\n",
              "  <thead>\n",
              "    <tr style=\"text-align: right;\">\n",
              "      <th></th>\n",
              "      <th>time</th>\n",
              "      <th>event</th>\n",
              "      <th>risk_score</th>\n",
              "    </tr>\n",
              "  </thead>\n",
              "  <tbody>\n",
              "    <tr>\n",
              "      <th>6</th>\n",
              "      <td>2</td>\n",
              "      <td>1</td>\n",
              "      <td>40</td>\n",
              "    </tr>\n",
              "    <tr>\n",
              "      <th>7</th>\n",
              "      <td>4</td>\n",
              "      <td>0</td>\n",
              "      <td>20</td>\n",
              "    </tr>\n",
              "  </tbody>\n",
              "</table>\n",
              "</div>"
            ],
            "text/plain": [
              "   time  event  risk_score\n",
              "6     2      1          40\n",
              "7     4      0          20"
            ]
          },
          "metadata": {
            "tags": []
          },
          "execution_count": 24
        }
      ]
    },
    {
      "cell_type": "code",
      "metadata": {
        "id": "c0fir0-I3Tec",
        "colab_type": "code",
        "colab": {},
        "outputId": "344cc4d8-66f0-4639-a55c-c3cdfb7440b1"
      },
      "source": [
        "if df['time'][7] >= df['time'][6]:\n",
        "    print(f\"Permissible pair: Censored patient 7 lasted at least as long as uncensored patient 6\")\n",
        "else:\n",
        "    print(\"Not a permisible pair\")"
      ],
      "execution_count": null,
      "outputs": [
        {
          "output_type": "stream",
          "text": [
            "Permissible pair: Censored patient 7 lasted at least as long as uncensored patient 6\n"
          ],
          "name": "stdout"
        }
      ]
    },
    {
      "cell_type": "code",
      "metadata": {
        "id": "W6J6FuFr3Teh",
        "colab_type": "code",
        "colab": {},
        "outputId": "96b509b3-c23b-45b6-f528-75b22832ca13"
      },
      "source": [
        "pd.concat([df.iloc[4:5],df.iloc[5:6]],axis=0)"
      ],
      "execution_count": null,
      "outputs": [
        {
          "output_type": "execute_result",
          "data": {
            "text/html": [
              "<div>\n",
              "<style scoped>\n",
              "    .dataframe tbody tr th:only-of-type {\n",
              "        vertical-align: middle;\n",
              "    }\n",
              "\n",
              "    .dataframe tbody tr th {\n",
              "        vertical-align: top;\n",
              "    }\n",
              "\n",
              "    .dataframe thead th {\n",
              "        text-align: right;\n",
              "    }\n",
              "</style>\n",
              "<table border=\"1\" class=\"dataframe\">\n",
              "  <thead>\n",
              "    <tr style=\"text-align: right;\">\n",
              "      <th></th>\n",
              "      <th>time</th>\n",
              "      <th>event</th>\n",
              "      <th>risk_score</th>\n",
              "    </tr>\n",
              "  </thead>\n",
              "  <tbody>\n",
              "    <tr>\n",
              "      <th>4</th>\n",
              "      <td>2</td>\n",
              "      <td>0</td>\n",
              "      <td>20</td>\n",
              "    </tr>\n",
              "    <tr>\n",
              "      <th>5</th>\n",
              "      <td>4</td>\n",
              "      <td>1</td>\n",
              "      <td>40</td>\n",
              "    </tr>\n",
              "  </tbody>\n",
              "</table>\n",
              "</div>"
            ],
            "text/plain": [
              "   time  event  risk_score\n",
              "4     2      0          20\n",
              "5     4      1          40"
            ]
          },
          "metadata": {
            "tags": []
          },
          "execution_count": 26
        }
      ]
    },
    {
      "cell_type": "code",
      "metadata": {
        "id": "aPp5xdTQ3Teo",
        "colab_type": "code",
        "colab": {},
        "outputId": "49b6e1c0-c935-4d1a-f536-ea63807e93e4"
      },
      "source": [
        "if df['time'][4] >= df['time'][5]:\n",
        "    print(f\"Permissible pair\")\n",
        "else:\n",
        "    print(\"Not a permisible pair: censored patient 4 was censored before patient 5 had their event\")"
      ],
      "execution_count": null,
      "outputs": [
        {
          "output_type": "stream",
          "text": [
            "Not a permisible pair: censored patient 4 was censored before patient 5 had their event\n"
          ],
          "name": "stdout"
        }
      ]
    },
    {
      "cell_type": "markdown",
      "metadata": {
        "id": "hwiIGHND3Tex",
        "colab_type": "text"
      },
      "source": [
        "### This is the end of this practice section.\n",
        "\n",
        "Please continue on with the lecture videos!\n",
        "\n",
        "---"
      ]
    },
    {
      "cell_type": "code",
      "metadata": {
        "id": "WVy3djKD3Tez",
        "colab_type": "code",
        "colab": {}
      },
      "source": [
        ""
      ],
      "execution_count": null,
      "outputs": []
    }
  ]
}